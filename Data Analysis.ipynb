{
 "cells": [
  {
   "cell_type": "code",
   "execution_count": 3,
   "metadata": {},
   "outputs": [
    {
     "name": "stderr",
     "output_type": "stream",
     "text": [
      "Using TensorFlow backend.\n"
     ]
    }
   ],
   "source": [
    "from cv2 import imread\n",
    "from cv2 import imshow\n",
    "from cv2 import waitKey\n",
    "from cv2 import destroyAllWindows\n",
    "from cv2 import CascadeClassifier\n",
    "from cv2 import rectangle\n",
    "\n",
    "from mtcnn import MTCNN\n",
    "import cv2\n",
    "import glob\n",
    "import pandas as pd\n",
    "from keras.utils.vis_utils import plot_model\n",
    "import json \n",
    "from PIL import Image\n",
    "import numpy as np\n",
    "import time\n",
    "\n",
    "from keras_vggface.utils import preprocess_input\n",
    "from keras_vggface.vggface import VGGFace\n",
    "from scipy.spatial.distance import cosine\n",
    "import random\n",
    "\n",
    "from keras.applications import VGG16\n",
    "from keras.layers import Dense\n",
    "from keras.engine.training import Model\n",
    "#from keras import backend as K\n",
    "from tensorflow.keras import backend as K\n",
    "import gc\n",
    "import tensorflow as tf \n",
    "from tensorflow.compat.v1 import Session, RunOptions"
   ]
  },
  {
   "cell_type": "code",
   "execution_count": 4,
   "metadata": {},
   "outputs": [],
   "source": [
    "# https://stackoverflow.com/questions/44036971/multiple-outputs-in-keras"
   ]
  },
  {
   "cell_type": "markdown",
   "metadata": {},
   "source": [
    "# Import Photos To Json Summary"
   ]
  },
  {
   "cell_type": "code",
   "execution_count": 5,
   "metadata": {},
   "outputs": [],
   "source": [
    "def Summary(directory):\n",
    "    data = []\n",
    "    for file in glob.glob(\"{}*.jpg\".format(directory)):\n",
    "        # from the file name, determine properties:\n",
    "        params = file.replace(directory,'').split('_')\n",
    "\n",
    "        # determine gender\n",
    "        gender = 'male'\n",
    "        if params[1] == '1':\n",
    "            gender = 'female'\n",
    "        \n",
    "        # determine ethnicity\n",
    "        ethnicity = 'white'\n",
    "        if params[2] == '1':\n",
    "            ethnicity = 'black'\n",
    "        if params[2] == '2':\n",
    "            ethnicity = 'asian'\n",
    "        if params[2] == '3':\n",
    "            ethnicity = 'indian'\n",
    "        if params[2] == '4':\n",
    "            ethnicity = 'other'\n",
    "        \n",
    "        # generate dataframe row \n",
    "        data.append({\n",
    "            'age' : int(params[0]),\n",
    "            'gender' : gender,\n",
    "            'ethnicity' : ethnicity,\n",
    "            'filename' : file\n",
    "        })\n",
    "    return pd.DataFrame(data)"
   ]
  },
  {
   "cell_type": "code",
   "execution_count": 6,
   "metadata": {
    "scrolled": true
   },
   "outputs": [
    {
     "name": "stdout",
     "output_type": "stream",
     "text": [
      "Summary 3...\n",
      "Summary 2...\n",
      "Summary 1...\n",
      "time taken: 0.003482202688852946 minutes\n"
     ]
    }
   ],
   "source": [
    "# Build Database\n",
    "start = time.time()\n",
    "# read images into list \n",
    "print('Summary 3...')\n",
    "directory = 'D:\\\\Downloads\\\\Faces\\\\part3.tar\\\\part3\\\\'\n",
    "summary3 = Summary(directory)\n",
    "\n",
    "print('Summary 2...')\n",
    "directory = 'D:\\\\Downloads\\\\Faces\\\\part3.tar\\\\part2\\\\'\n",
    "summary2 = Summary(directory)\n",
    "\n",
    "print('Summary 1...')\n",
    "directory = 'D:\\\\Downloads\\\\Faces\\\\part3.tar\\\\part1\\\\'\n",
    "summary1 = Summary(directory)\n",
    "print('time taken: {} minutes'.format((time.time() - start)/60))"
   ]
  },
  {
   "cell_type": "code",
   "execution_count": 16,
   "metadata": {},
   "outputs": [
    {
     "data": {
      "text/plain": [
       "3250"
      ]
     },
     "execution_count": 16,
     "metadata": {},
     "output_type": "execute_result"
    }
   ],
   "source": [
    "len(summary3)"
   ]
  },
  {
   "cell_type": "code",
   "execution_count": 7,
   "metadata": {},
   "outputs": [],
   "source": [
    "summary = summary1.append(summary2).append(summary3) # merge directories into one list"
   ]
  },
  {
   "cell_type": "code",
   "execution_count": 8,
   "metadata": {},
   "outputs": [
    {
     "data": {
      "text/plain": [
       "(24106, 4)"
      ]
     },
     "execution_count": 8,
     "metadata": {},
     "output_type": "execute_result"
    }
   ],
   "source": [
    "summary.shape"
   ]
  },
  {
   "cell_type": "code",
   "execution_count": 20,
   "metadata": {},
   "outputs": [],
   "source": [
    "summary = summary3"
   ]
  },
  {
   "cell_type": "markdown",
   "metadata": {},
   "source": [
    "# Statistics "
   ]
  },
  {
   "cell_type": "code",
   "execution_count": 9,
   "metadata": {},
   "outputs": [
    {
     "data": {
      "text/plain": [
       "(24106, 4)"
      ]
     },
     "execution_count": 9,
     "metadata": {},
     "output_type": "execute_result"
    }
   ],
   "source": [
    "df = summary\n",
    "df.shape"
   ]
  },
  {
   "cell_type": "code",
   "execution_count": 10,
   "metadata": {},
   "outputs": [
    {
     "name": "stdout",
     "output_type": "stream",
     "text": [
      "male: 12583\n",
      "female: 11523\n",
      "ratio: 0.5219862274952294\n"
     ]
    }
   ],
   "source": [
    "# Gender\n",
    "male = df[df['gender'] == 'male'].shape[0]\n",
    "female = df[df['gender'] == 'female'].shape[0]\n",
    "\n",
    "print('male: {}'.format(male))\n",
    "print('female: {}'.format(female))\n",
    "print('ratio: {}'.format(male/(female+male)))\n",
    "# ax = df['gender'].plot.hist(rot=0, bins=20)"
   ]
  },
  {
   "cell_type": "code",
   "execution_count": 11,
   "metadata": {},
   "outputs": [
    {
     "name": "stdout",
     "output_type": "stream",
     "text": [
      "white: 10225\n",
      "black: 4558\n",
      "asian: 3586\n",
      "indian: 4027\n",
      "other: 1710\n"
     ]
    }
   ],
   "source": [
    "# Ethnicity\n",
    "white = df[df['ethnicity'] == 'white'].shape[0]\n",
    "black = df[df['ethnicity'] == 'black'].shape[0]\n",
    "asian = df[df['ethnicity'] == 'asian'].shape[0]\n",
    "indian = df[df['ethnicity'] == 'indian'].shape[0]\n",
    "other = df[df['ethnicity'] == 'other'].shape[0]\n",
    "\n",
    "print('white: {}'.format(white))\n",
    "print('black: {}'.format(black))\n",
    "print('asian: {}'.format(asian))\n",
    "print('indian: {}'.format(indian))\n",
    "print('other: {}'.format(other))\n",
    "# ax = df['ethnicity'].plot.hist(rot=0, bins=20)"
   ]
  },
  {
   "cell_type": "code",
   "execution_count": 15,
   "metadata": {},
   "outputs": [
    {
     "data": {
      "image/png": "[encoded data removed]",
      "text/plain": [
       "<Figure size 640x480 with 1 Axes>"
      ]
     },
     "metadata": {},
     "output_type": "display_data"
    }
   ],
   "source": [
    "import matplotlib.pyplot as plt; plt.rcdefaults()\n",
    "import numpy as np\n",
    "import matplotlib.pyplot as plt\n",
    "\n",
    "objects = ('white', 'black', 'asian', 'indian', 'other')\n",
    "y_pos = np.arange(len(objects))\n",
    "performance = [white,black,asian,indian,other]\n",
    "\n",
    "plt.bar(y_pos, performance, align='center', alpha=0.5)\n",
    "plt.xticks(y_pos, objects)\n",
    "plt.ylabel('Image Count')\n",
    "plt.title('Ethnicity')\n",
    "\n",
    "plt.show()"
   ]
  },
  {
   "cell_type": "code",
   "execution_count": 13,
   "metadata": {},
   "outputs": [
    {
     "data": {
      "image/png": "[encoded data removed]",
      "text/plain": [
       "<Figure size 640x480 with 1 Axes>"
      ]
     },
     "metadata": {},
     "output_type": "display_data"
    }
   ],
   "source": [
    "# Age distribution \n",
    "ax = df['age'].plot.hist(rot=0, bins=5)"
   ]
  },
  {
   "cell_type": "markdown",
   "metadata": {},
   "source": [
    "# Rebalance the data "
   ]
  },
  {
   "cell_type": "code",
   "execution_count": 16,
   "metadata": {},
   "outputs": [],
   "source": [
    "# remove ages above 80 (optliers), merge into 80+ category \n",
    "# close age range? "
   ]
  },
  {
   "cell_type": "markdown",
   "metadata": {},
   "source": [
    "# Oversampling"
   ]
  },
  {
   "cell_type": "markdown",
   "metadata": {},
   "source": [
    "# Undersampling"
   ]
  },
  {
   "cell_type": "markdown",
   "metadata": {},
   "source": [
    "# weighting"
   ]
  },
  {
   "cell_type": "code",
   "execution_count": null,
   "metadata": {},
   "outputs": [],
   "source": []
  }
 ],
 "metadata": {
  "kernelspec": {
   "display_name": "Python 3",
   "language": "python",
   "name": "python3"
  },
  "language_info": {
   "codemirror_mode": {
    "name": "ipython",
    "version": 3
   },
   "file_extension": ".py",
   "mimetype": "text/x-python",
   "name": "python",
   "nbconvert_exporter": "python",
   "pygments_lexer": "ipython3",
   "version": "3.7.7"
  }
 },
 "nbformat": 4,
 "nbformat_minor": 4
}
